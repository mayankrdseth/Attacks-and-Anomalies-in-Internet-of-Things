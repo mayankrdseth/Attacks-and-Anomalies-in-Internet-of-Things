{
  "nbformat": 4,
  "nbformat_minor": 0,
  "metadata": {
    "colab": {
      "name": "NSL_BEST_entire_dataset.ipynb",
      "provenance": [],
      "collapsed_sections": []
    },
    "kernelspec": {
      "name": "python3",
      "display_name": "Python 3"
    },
    "accelerator": "TPU"
  },
  "cells": [
    {
      "cell_type": "code",
      "metadata": {
        "id": "jtApGr12cPSf"
      },
      "source": [
        "import pandas as pd\n",
        "import seaborn as sns\n",
        "import numpy as np\n",
        "import re\n",
        "import sklearn\n",
        "from sklearn.decomposition import PCA\n",
        "\n",
        "import warnings\n",
        "warnings.filterwarnings(\"ignore\")\n",
        "\n",
        "import matplotlib.pyplot as plt\n",
        "import matplotlib as matplot\n",
        "%matplotlib inline\n",
        "\n",
        "from sklearn.model_selection import train_test_split"
      ],
      "execution_count": 1,
      "outputs": []
    },
    {
      "cell_type": "code",
      "metadata": {
        "id": "ihkEeMctcXSw",
        "colab": {
          "base_uri": "https://localhost:8080/"
        },
        "outputId": "e1b3b4e5-9f97-4ad2-ddd2-8a871a8e9272"
      },
      "source": [
        "train = pd.read_csv('https://raw.githubusercontent.com/defcom17/NSL_KDD/master/KDDTrain%2B.csv')\n",
        "test = pd.read_csv('https://raw.githubusercontent.com/defcom17/NSL_KDD/master/KDDTest%2B.csv')\n",
        "\n",
        "\n",
        "col_names = [\"duration\",\"protocol_type\",\"service\",\"flag\",\"src_bytes\",\n",
        "    \"dst_bytes\",\"land\",\"wrong_fragment\",\"urgent\",\"hot\",\"num_failed_logins\",\n",
        "    \"logged_in\",\"num_compromised\",\"root_shell\",\"su_attempted\",\"num_root\",\n",
        "    \"num_file_creations\",\"num_shells\",\"num_access_files\",\"num_outbound_cmds\",\n",
        "    \"is_host_login\",\"is_guest_login\",\"count\",\"srv_count\",\"serror_rate\",\n",
        "    \"srv_serror_rate\",\"rerror_rate\",\"srv_rerror_rate\",\"same_srv_rate\",\n",
        "    \"diff_srv_rate\",\"srv_diff_host_rate\",\"dst_host_count\",\"dst_host_srv_count\",\n",
        "    \"dst_host_same_srv_rate\",\"dst_host_diff_srv_rate\",\"dst_host_same_src_port_rate\",\n",
        "    \"dst_host_srv_diff_host_rate\",\"dst_host_serror_rate\",\"dst_host_srv_serror_rate\",\n",
        "    \"dst_host_rerror_rate\",\"dst_host_srv_rerror_rate\",\"label\",\"difficulty_level\"]\n",
        "\n",
        "df = pd.read_csv(\"https://raw.githubusercontent.com/defcom17/NSL_KDD/master/KDDTrain%2B.csv\", header=None, names = col_names)\n",
        "df.drop([\"difficulty_level\"],axis=1)\n",
        "df_test = pd.read_csv(\"https://raw.githubusercontent.com/defcom17/NSL_KDD/master/KDDTest%2B.csv\", header=None, names = col_names)\n",
        "df_test.drop([\"difficulty_level\"],axis=1)\n",
        "print(df_test.label.value_counts())"
      ],
      "execution_count": 2,
      "outputs": [
        {
          "output_type": "stream",
          "text": [
            "normal             9710\n",
            "neptune            4657\n",
            "guess_passwd       1231\n",
            "mscan               996\n",
            "warezmaster         944\n",
            "apache2             737\n",
            "satan               735\n",
            "processtable        685\n",
            "smurf               665\n",
            "back                359\n",
            "snmpguess           331\n",
            "saint               319\n",
            "mailbomb            293\n",
            "snmpgetattack       178\n",
            "portsweep           157\n",
            "ipsweep             141\n",
            "httptunnel          133\n",
            "nmap                 73\n",
            "pod                  41\n",
            "buffer_overflow      20\n",
            "multihop             18\n",
            "named                17\n",
            "ps                   15\n",
            "sendmail             14\n",
            "rootkit              13\n",
            "xterm                13\n",
            "teardrop             12\n",
            "xlock                 9\n",
            "land                  7\n",
            "xsnoop                4\n",
            "ftp_write             3\n",
            "perl                  2\n",
            "sqlattack             2\n",
            "phf                   2\n",
            "worm                  2\n",
            "loadmodule            2\n",
            "udpstorm              2\n",
            "imap                  1\n",
            "Name: label, dtype: int64\n"
          ],
          "name": "stdout"
        }
      ]
    },
    {
      "cell_type": "code",
      "metadata": {
        "id": "HzU8anCVcX0R"
      },
      "source": [
        "from sklearn import preprocessing\n",
        "le = preprocessing.LabelEncoder()\n",
        "df.protocol_type=le.fit_transform(df.protocol_type)\n",
        "df.service= le.fit_transform(df.service)\n",
        "df.flag= le.fit_transform(df.flag)"
      ],
      "execution_count": 3,
      "outputs": []
    },
    {
      "cell_type": "code",
      "metadata": {
        "colab": {
          "base_uri": "https://localhost:8080/"
        },
        "id": "MFI6-CTrKPyh",
        "outputId": "73723c38-7002-4582-e392-83a574d17e6f"
      },
      "source": [
        "# defining function to check price \n",
        "labeldf_test_0=df_test['label']\n",
        "# change the label column\n",
        "#0=normal, 1=DoS, 2=Probe, 3=R2L and 4=U2R.\n",
        "\n",
        "newlabeldf_test_0=labeldf_test_0.replace({ 'normal' : 0, 'neptune' : 1 ,'back': 1, 'land': 1, 'pod': 1, 'smurf': 1, 'teardrop': 1,'mailbomb': 1, 'apache2': 1, 'processtable': 1, 'udpstorm': 1, 'worm': 1,\n",
        "                           'ipsweep' : 2,'nmap' : 2,'portsweep' : 2,'satan' : 2,'mscan' : 2,'saint' : 2\n",
        "                           ,'ftp_write': 3,'guess_passwd': 3,'imap': 3,'multihop': 3,'phf': 3,'spy': 3,'warezclient': 3,'warezmaster': 3,'sendmail': 3,'named': 3,'snmpgetattack': 3,'snmpguess': 3,'xlock': 3,'xsnoop': 3,'httptunnel': 3,\n",
        "                           'buffer_overflow': 4,'loadmodule': 4,'perl': 4,'rootkit': 4,'ps': 4,'sqlattack': 4,'xterm': 4}) \n",
        "\n",
        "df_test_0=df_test\n",
        "df_test_0['label']= newlabeldf_test_0\n",
        "df_test_0.label.value_counts()"
      ],
      "execution_count": 4,
      "outputs": [
        {
          "output_type": "execute_result",
          "data": {
            "text/plain": [
              "0    9710\n",
              "1    7460\n",
              "3    2885\n",
              "2    2421\n",
              "4      67\n",
              "Name: label, dtype: int64"
            ]
          },
          "metadata": {
            "tags": []
          },
          "execution_count": 4
        }
      ]
    },
    {
      "cell_type": "code",
      "metadata": {
        "colab": {
          "base_uri": "https://localhost:8080/"
        },
        "id": "Gn_YEjgwKaek",
        "outputId": "48f65c92-af3b-45ca-b9e4-1bb72d5fec09"
      },
      "source": [
        "df = pd.read_csv(\"https://raw.githubusercontent.com/defcom17/NSL_KDD/master/KDDTrain%2B.csv\", header=None, names = col_names)\n",
        "df.drop([\"difficulty_level\"],axis=1)\n",
        "df_test = pd.read_csv(\"https://raw.githubusercontent.com/defcom17/NSL_KDD/master/KDDTest%2B.csv\", header=None, names = col_names)\n",
        "df_test.drop([\"difficulty_level\"],axis=1)\n",
        "print(df_test.label.value_counts())\n",
        "from sklearn import preprocessing\n",
        "le = preprocessing.LabelEncoder()\n",
        "df.protocol_type=le.fit_transform(df.protocol_type)\n",
        "df.service= le.fit_transform(df.service)\n",
        "df.flag= le.fit_transform(df.flag)"
      ],
      "execution_count": 5,
      "outputs": [
        {
          "output_type": "stream",
          "text": [
            "normal             9710\n",
            "neptune            4657\n",
            "guess_passwd       1231\n",
            "mscan               996\n",
            "warezmaster         944\n",
            "apache2             737\n",
            "satan               735\n",
            "processtable        685\n",
            "smurf               665\n",
            "back                359\n",
            "snmpguess           331\n",
            "saint               319\n",
            "mailbomb            293\n",
            "snmpgetattack       178\n",
            "portsweep           157\n",
            "ipsweep             141\n",
            "httptunnel          133\n",
            "nmap                 73\n",
            "pod                  41\n",
            "buffer_overflow      20\n",
            "multihop             18\n",
            "named                17\n",
            "ps                   15\n",
            "sendmail             14\n",
            "rootkit              13\n",
            "xterm                13\n",
            "teardrop             12\n",
            "xlock                 9\n",
            "land                  7\n",
            "xsnoop                4\n",
            "ftp_write             3\n",
            "perl                  2\n",
            "sqlattack             2\n",
            "phf                   2\n",
            "worm                  2\n",
            "loadmodule            2\n",
            "udpstorm              2\n",
            "imap                  1\n",
            "Name: label, dtype: int64\n"
          ],
          "name": "stdout"
        }
      ]
    },
    {
      "cell_type": "code",
      "metadata": {
        "id": "gDOUg_DJdyMQ",
        "colab": {
          "base_uri": "https://localhost:8080/"
        },
        "outputId": "d64107f8-f16e-4518-f4fd-fe1520c0027e"
      },
      "source": [
        "# defining function to check price \n",
        "labeldf=df['label']\n",
        "labeldf_test=df_test['label']\n",
        "# change the label column\n",
        "#0=normal, 1=DoS, 2=Probe, 3=R2L and 4=U2R.\n",
        "#Here all attacks are class 1\n",
        "newlabeldf=labeldf.replace({ 'normal' : 0, 'neptune' : 1 ,'back': 1, 'land': 1, 'pod': 1, 'smurf': 1, 'teardrop': 1,'mailbomb': 1, 'apache2': 1, 'processtable': 1, 'udpstorm': 1, 'worm': 1,\n",
        "                           'ipsweep' : 1,'nmap' : 1,'portsweep' : 1,'satan' : 1,'mscan' : 1,'saint' : 1\n",
        "                           ,'ftp_write': 1,'guess_passwd': 1,'imap': 1,'multihop': 1,'phf': 1,'spy': 1,'warezclient': 1,'warezmaster': 1,'sendmail': 1,'named': 1,'snmpgetattack': 1,'snmpguess': 1,'xlock': 1,'xsnoop': 1,'httptunnel': 1,\n",
        "                           'buffer_overflow': 1,'loadmodule': 1,'perl': 1,'rootkit': 1,'ps': 1,'sqlattack': 1,'xterm': 1})\n",
        "newlabeldf_test=labeldf_test.replace({ 'normal' : 0, 'neptune' : 1 ,'back': 1, 'land': 1, 'pod': 1, 'smurf': 1, 'teardrop': 1,'mailbomb': 1, 'apache2': 1, 'processtable': 1, 'udpstorm': 1, 'worm': 1,\n",
        "                           'ipsweep' : 1,'nmap' : 1,'portsweep' : 1,'satan' : 1,'mscan' : 1,'saint' : 1\n",
        "                           ,'ftp_write': 1,'guess_passwd': 1,'imap': 1,'multihop': 1,'phf': 1,'spy': 1,'warezclient': 1,'warezmaster': 1,'sendmail': 1,'named': 1,'snmpgetattack': 1,'snmpguess': 1,'xlock': 1,'xsnoop': 1,'httptunnel': 1,\n",
        "                           'buffer_overflow': 1,'loadmodule': 1,'perl': 1,'rootkit': 1,'ps': 1,'sqlattack': 1,'xterm': 1}) \n",
        "\n",
        "df['label'] = newlabeldf\n",
        "df_test['label'] = newlabeldf_test\n",
        "df_test.label.value_counts()"
      ],
      "execution_count": 6,
      "outputs": [
        {
          "output_type": "execute_result",
          "data": {
            "text/plain": [
              "1    12833\n",
              "0     9710\n",
              "Name: label, dtype: int64"
            ]
          },
          "metadata": {
            "tags": []
          },
          "execution_count": 6
        }
      ]
    },
    {
      "cell_type": "code",
      "metadata": {
        "id": "M1009dDnwzWC"
      },
      "source": [
        "y_train=df.label\n",
        "x_train=df.drop([\"label\",\"difficulty_level\"],axis=1)"
      ],
      "execution_count": 7,
      "outputs": []
    },
    {
      "cell_type": "code",
      "metadata": {
        "id": "WK3f5LDWxE3g",
        "colab": {
          "base_uri": "https://localhost:8080/"
        },
        "outputId": "66aecad8-6b72-45ec-bff7-fcf6e703be44"
      },
      "source": [
        "from sklearn import preprocessing\n",
        "\n",
        "le = preprocessing.LabelEncoder()\n",
        "df_test.protocol_type=le.fit_transform(df_test.protocol_type)\n",
        "df_test.service= le.fit_transform(df_test.service)\n",
        "df_test.flag= le.fit_transform(df_test.flag)\n",
        "\n",
        "y_test=df_test.label\n",
        "X_test=df_test.drop([\"label\",\"difficulty_level\"],axis=1)\n",
        "\n",
        "dataframe=x_train\n",
        "dataframe = preprocessing.normalize(dataframe)\n",
        "pca = PCA(n_components=16)\n",
        "pca.fit(dataframe)\n",
        "x_train=pca.transform(dataframe)\n",
        "\n",
        "\n",
        "print (pca.explained_variance_)\n",
        "print (pca.explained_variance_ratio_)\n",
        "print (pca.explained_variance_ratio_.cumsum())\n",
        "\n",
        "#Training Validation Split\n",
        "x_val=x_train[125923:]\n",
        "y_val=y_train[125923:]\n",
        "x_train=x_train[0:125923]\n",
        "y_train=y_train[0:125923]\n",
        "\n",
        "print(x_train.shape)\n",
        "\n",
        "\n",
        "#Use the same set of vectors to transform from x dimensions to extracted set of dimensions\n",
        "#note we are not fitting again,we are using the previously fitted one\n",
        "X_test= preprocessing.normalize(X_test)\n",
        "X_test=pca.transform(X_test)"
      ],
      "execution_count": 8,
      "outputs": [
        {
          "output_type": "stream",
          "text": [
            "[2.94770250e-01 1.16889194e-01 7.13066279e-02 3.97080134e-02\n",
            " 3.12836358e-02 1.24133499e-02 1.00673876e-02 5.31730249e-03\n",
            " 5.20010510e-04 1.36603815e-05 7.29814365e-06 6.01837521e-06\n",
            " 2.41355473e-06 1.86119268e-06 1.19292684e-06 9.23369976e-07]\n",
            "[5.06205188e-01 2.00732322e-01 1.22453962e-01 6.81900645e-02\n",
            " 5.37229885e-02 2.13172874e-02 1.72885961e-02 9.13133570e-03\n",
            " 8.93007411e-04 2.34587989e-05 1.25330089e-05 1.03352789e-05\n",
            " 4.14476672e-06 3.19620243e-06 2.04859804e-06 1.58569147e-06]\n",
            "[0.50620519 0.70693751 0.82939147 0.89758154 0.95130453 0.97262181\n",
            " 0.98991041 0.99904174 0.99993475 0.99995821 0.99997074 0.99998108\n",
            " 0.99998522 0.99998842 0.99999047 0.99999205]\n",
            "(125923, 16)\n"
          ],
          "name": "stdout"
        }
      ]
    },
    {
      "cell_type": "code",
      "metadata": {
        "id": "jS0rB_O7xoYl"
      },
      "source": [
        "from sklearn.ensemble import RandomForestClassifier, VotingClassifier\n",
        "from sklearn.neighbors import KNeighborsClassifier\n",
        "\n",
        "\n",
        "clf1 =KNeighborsClassifier(n_neighbors=5, metric='euclidean')\n",
        "clf2 = RandomForestClassifier(n_estimators=100, random_state=0)\n",
        "eclf1 = VotingClassifier(estimators=[('knn', clf1), ('rf', clf2)], voting='soft')\n",
        "eclf1 = eclf1.fit(x_train, y_train)"
      ],
      "execution_count": 9,
      "outputs": []
    },
    {
      "cell_type": "code",
      "metadata": {
        "id": "q-ry3u1W0zya",
        "colab": {
          "base_uri": "https://localhost:8080/"
        },
        "outputId": "6e5da418-0767-402b-bc34-65de780898c7"
      },
      "source": [
        "#Training set results:\n",
        "\n",
        "pred1=eclf1.predict_proba(x_train)\n",
        "from sklearn.metrics import confusion_matrix\n",
        "\n",
        "d=[0.05,0.045,0.04,0.035,0.03,0.025,0.02,0.015,0.01]\n",
        "result_list=[]\n",
        "for j in d:\n",
        "  h=[]\n",
        "  for i in range(125923):\n",
        "      if (pred1[i][1]>=j):\n",
        "        h.append(1)\n",
        "      else:\n",
        "        h.append(0)\n",
        "  results = confusion_matrix(y_train, h)\n",
        "  detection_rate=(results[1][1])/(results[1][1]+results[1][0])\n",
        "  fpr=(results[0][1])/(results[0][1]+results[0][0])\n",
        "  result_list.append([j,fpr*100,detection_rate*100])\n",
        "print(result_list)"
      ],
      "execution_count": 10,
      "outputs": [
        {
          "output_type": "stream",
          "text": [
            "[[0.05, 1.1543947227669815, 100.0], [0.045, 1.1811374576573366, 100.0], [0.04, 1.2108516075355085, 100.0], [0.035, 1.2821655672431211, 100.0], [0.03, 1.3787365543471801, 100.0], [0.025, 1.4990788613537767, 100.0], [0.02, 1.7159921554644322, 100.0], [0.015, 2.112676056338028, 100.0], [0.01, 3.062043144945623, 100.0]]\n"
          ],
          "name": "stdout"
        }
      ]
    },
    {
      "cell_type": "code",
      "metadata": {
        "id": "lsP77FLg0P3R",
        "colab": {
          "base_uri": "https://localhost:8080/"
        },
        "outputId": "bc2b6693-5688-4154-c64d-54c62336ad65"
      },
      "source": [
        "#Validation set results:\n",
        "\n",
        "pred1=eclf1.predict_proba(x_val)\n",
        "from sklearn.metrics import confusion_matrix\n",
        "\n",
        "d=[0.05,0.045,0.04,0.035,0.03,0.025,0.02,0.015,0.01]\n",
        "result_list=[]\n",
        "for j in d:\n",
        "  h=[]\n",
        "  for i in range(50):\n",
        "      if (pred1[i][1]>=j):\n",
        "        h.append(1)\n",
        "      else:\n",
        "        h.append(0)\n",
        "  results = confusion_matrix(y_val, h)\n",
        "  detection_rate=(results[1][1])/(results[1][1]+results[1][0])\n",
        "  fpr=(results[0][1])/(results[0][1]+results[0][0])\n",
        "  result_list.append([j,fpr*100,detection_rate*100])\n",
        "print(result_list)"
      ],
      "execution_count": 11,
      "outputs": [
        {
          "output_type": "stream",
          "text": [
            "[[0.05, 2.857142857142857, 100.0], [0.045, 2.857142857142857, 100.0], [0.04, 2.857142857142857, 100.0], [0.035, 2.857142857142857, 100.0], [0.03, 2.857142857142857, 100.0], [0.025, 2.857142857142857, 100.0], [0.02, 2.857142857142857, 100.0], [0.015, 8.571428571428571, 100.0], [0.01, 8.571428571428571, 100.0]]\n"
          ],
          "name": "stdout"
        }
      ]
    },
    {
      "cell_type": "code",
      "metadata": {
        "id": "4nfFJrhnTKnI",
        "colab": {
          "base_uri": "https://localhost:8080/"
        },
        "outputId": "c128f370-2fd9-48c2-e6ef-1fbbe7c258c3"
      },
      "source": [
        "#Test Set Results\n",
        "import time\n",
        "\n",
        "start = time.time()\n",
        "pred1=eclf1.predict_proba(X_test)\n",
        "from sklearn.metrics import confusion_matrix\n",
        "d=[0.05,0.045,0.04,0.035,0.03,0.025,0.02,0.015,0.01]\n",
        "result_list=[]\n",
        "for j in d:\n",
        "  h=[]\n",
        "  for i in range(22543):\n",
        "      if (pred1[i][1]>=j):\n",
        "        h.append(1)\n",
        "      else:\n",
        "        h.append(0)\n",
        "  results = confusion_matrix(y_test, h)\n",
        "  detection_rate=(results[1][1])/(results[1][1]+results[1][0])\n",
        "  fpr=(results[0][1])/(results[0][1]+results[0][0])\n",
        "  accuracy=(results[0][0]+results[1][1])/(results[0][1]+results[1][0]+results[0][0]+results[1][1])\n",
        "  result_list.append([j,fpr*100,detection_rate*100,accuracy*100])\n",
        "print(result_list)\n",
        "\n",
        "end = time.time()\n",
        "print((end - start)/(9*22543))"
      ],
      "execution_count": 12,
      "outputs": [
        {
          "output_type": "stream",
          "text": [
            "[[0.05, 6.446961894953657, 89.98675290267279, 91.52286740895178], [0.045, 6.714727085478887, 90.84391802384476, 91.89548862174512], [0.04, 8.290422245108136, 91.76342242655653, 91.74022978308122], [0.035, 9.237899073120493, 92.00498714252319, 91.46963580712416], [0.03, 9.495365602471677, 92.28551390945219, 91.51843144213281], [0.025, 10.092687950566425, 92.52707862541885, 91.39866033802068], [0.02, 10.772399588053554, 93.06475492869944, 91.41196823847758], [0.015, 11.390319258496396, 94.08556066391334, 91.72692188262431], [0.01, 12.69824922760041, 95.84664536741214, 92.16608259770217]]\n",
            "9.01832755989797e-06\n"
          ],
          "name": "stdout"
        }
      ]
    },
    {
      "cell_type": "code",
      "metadata": {
        "colab": {
          "base_uri": "https://localhost:8080/"
        },
        "id": "YHeZoB_zOvMR",
        "outputId": "c10d3853-9dc1-4dfb-b0b4-e9ff97b0fb67"
      },
      "source": [
        "#Test Set Results\n",
        "pred1=eclf1.predict_proba(X_test)\n",
        "from sklearn.metrics import confusion_matrix\n",
        "d=[0.05]\n",
        "result_list=[]\n",
        "for j in d:\n",
        "  h=[]\n",
        "  for i in range(22543):\n",
        "      if (pred1[i][1]>=j):\n",
        "        h.append(1)\n",
        "      else:\n",
        "        h.append(0)\n",
        "  results = confusion_matrix(y_test, h)\n",
        "  detection_rate=(results[1][1])/(results[1][1]+results[1][0])\n",
        "  fpr=(results[0][1])/(results[0][1]+results[0][0])\n",
        "  accuracy=(results[0][0]+results[1][1])/(results[0][1]+results[1][0]+results[0][0]+results[1][1])\n",
        "  result_list.append([j,fpr*100,detection_rate*100,accuracy*100])\n",
        "print(result_list)"
      ],
      "execution_count": 23,
      "outputs": [
        {
          "output_type": "stream",
          "text": [
            "[[0.05, 6.446961894953657, 89.98675290267279, 91.52286740895178]]\n"
          ],
          "name": "stdout"
        }
      ]
    },
    {
      "cell_type": "code",
      "metadata": {
        "id": "6UKRzOuOK2yJ"
      },
      "source": [
        "c1=c2=c3=c4=0\n",
        "for i in range(22543):\n",
        "  if (df_test_0.label[i]==1 and h[i]==1):\n",
        "    c1=c1+1\n",
        "  if (df_test_0.label[i]==2 and h[i]==1):\n",
        "    c2=c2+1\n",
        "  if (df_test_0.label[i]==3 and h[i]==1):\n",
        "    c3=c3+1\n",
        "  if (df_test_0.label[i]==4 and h[i]==1):\n",
        "    c4=c4+1"
      ],
      "execution_count": 21,
      "outputs": []
    },
    {
      "cell_type": "code",
      "metadata": {
        "colab": {
          "base_uri": "https://localhost:8080/"
        },
        "id": "hl6qE55EK3kq",
        "outputId": "b6534d30-184e-4136-aaaa-a8b28b77cdcb"
      },
      "source": [
        "print(c1,c2,c3,c4)"
      ],
      "execution_count": 15,
      "outputs": [
        {
          "output_type": "stream",
          "text": [
            "7154 2397 1957 40\n"
          ],
          "name": "stdout"
        }
      ]
    },
    {
      "cell_type": "code",
      "metadata": {
        "id": "OK56DHXFLVnr"
      },
      "source": [
        ""
      ],
      "execution_count": 15,
      "outputs": []
    }
  ]
}